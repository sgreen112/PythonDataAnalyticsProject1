{
  "nbformat": 4,
  "nbformat_minor": 0,
  "metadata": {
    "colab": {
      "provenance": [],
      "mount_file_id": "18dKH87td99Szm9XuGBo-COOTsIVST0RE",
      "authorship_tag": "ABX9TyNMRePKT0a6W84cdacj4BlS",
      "include_colab_link": true
    },
    "kernelspec": {
      "name": "python3",
      "display_name": "Python 3"
    },
    "language_info": {
      "name": "python"
    }
  },
  "cells": [
    {
      "cell_type": "markdown",
      "metadata": {
        "id": "view-in-github",
        "colab_type": "text"
      },
      "source": [
        "<a href=\"https://colab.research.google.com/github/sgreen112/PythonDataAnalyticsProject1/blob/main/Python_Project_3_Capstone.ipynb\" target=\"_parent\"><img src=\"https://colab.research.google.com/assets/colab-badge.svg\" alt=\"Open In Colab\"/></a>"
      ]
    },
    {
      "cell_type": "markdown",
      "source": [
        "##Import Libraries"
      ],
      "metadata": {
        "id": "2nkTvZkIYP2h"
      }
    },
    {
      "cell_type": "code",
      "execution_count": 1,
      "metadata": {
        "id": "R97DJni1Zhfu"
      },
      "outputs": [],
      "source": [
        "import pandas as pd\n",
        "from pathlib import Path"
      ]
    },
    {
      "cell_type": "markdown",
      "source": [
        "## Import Upload Dataframe"
      ],
      "metadata": {
        "id": "1nUOPrZ2YTX0"
      }
    },
    {
      "cell_type": "code",
      "source": [
        "df = pd.read_csv('/content/drive/MyDrive/Colab Notebooks/201306-citibike-tripdata.csv')"
      ],
      "metadata": {
        "id": "xKtUCCM5ZpF8"
      },
      "execution_count": 2,
      "outputs": []
    },
    {
      "cell_type": "markdown",
      "source": [
        "##Take an overview of the data"
      ],
      "metadata": {
        "id": "4k4I8N09YYmO"
      }
    },
    {
      "cell_type": "code",
      "source": [
        "df.head(100)"
      ],
      "metadata": {
        "colab": {
          "base_uri": "https://localhost:8080/",
          "height": 676
        },
        "id": "K3fYbYDEdhF3",
        "outputId": "64753238-9297-4175-ca1d-f3931746ec1a"
      },
      "execution_count": 3,
      "outputs": [
        {
          "output_type": "execute_result",
          "data": {
            "text/plain": [
              "    tripduration            starttime             stoptime  start station id  \\\n",
              "0            695  2013-06-01 00:00:01  2013-06-01 00:11:36               444   \n",
              "1            693  2013-06-01 00:00:08  2013-06-01 00:11:41               444   \n",
              "2           2059  2013-06-01 00:00:44  2013-06-01 00:35:03               406   \n",
              "3            123  2013-06-01 00:01:04  2013-06-01 00:03:07               475   \n",
              "4           1521  2013-06-01 00:01:22  2013-06-01 00:26:43              2008   \n",
              "..           ...                  ...                  ...               ...   \n",
              "95          8299  2013-06-01 00:35:51  2013-06-01 02:54:10               481   \n",
              "96           357  2013-06-01 00:36:02  2013-06-01 00:41:59               439   \n",
              "97          2215  2013-06-01 00:37:15  2013-06-01 01:14:10               157   \n",
              "98           915  2013-06-01 00:37:56  2013-06-01 00:53:11               143   \n",
              "99          2184  2013-06-01 00:38:00  2013-06-01 01:14:24               157   \n",
              "\n",
              "           start station name  start station latitude  \\\n",
              "0          Broadway & W 24 St               40.742354   \n",
              "1          Broadway & W 24 St               40.742354   \n",
              "2      Hicks St & Montague St               40.695128   \n",
              "3         E 15 St & Irving Pl               40.735243   \n",
              "4       Little West St & 1 Pl               40.705693   \n",
              "..                        ...                     ...   \n",
              "95       S 3 St & Bedford Ave               40.712605   \n",
              "96             E 4 St & 2 Ave               40.726281   \n",
              "97    Henry St & Atlantic Ave               40.690893   \n",
              "98  Clinton St & Joralemon St               40.692395   \n",
              "99    Henry St & Atlantic Ave               40.690893   \n",
              "\n",
              "    start station longitude  end station id               end station name  \\\n",
              "0                -73.989151           434.0                9 Ave & W 18 St   \n",
              "1                -73.989151           434.0                9 Ave & W 18 St   \n",
              "2                -73.995951           406.0         Hicks St & Montague St   \n",
              "3                -73.987586           262.0                Washington Park   \n",
              "4                -74.016777           310.0            State St & Smith St   \n",
              "..                      ...             ...                            ...   \n",
              "95               -73.962644           312.0          Allen St & Stanton St   \n",
              "96               -73.989780           504.0                1 Ave & E 16 St   \n",
              "97               -73.996123           398.0       Atlantic Ave & Furman St   \n",
              "98               -73.993379            83.0  Atlantic Ave & Fort Greene Pl   \n",
              "99               -73.996123           398.0       Atlantic Ave & Furman St   \n",
              "\n",
              "    end station latitude  end station longitude  bikeid    usertype  \\\n",
              "0              40.743174             -74.003664   19678  Subscriber   \n",
              "1              40.743174             -74.003664   16649  Subscriber   \n",
              "2              40.695128             -73.995951   19599    Customer   \n",
              "3              40.691782             -73.973730   16352  Subscriber   \n",
              "4              40.689269             -73.989129   15567  Subscriber   \n",
              "..                   ...                    ...     ...         ...   \n",
              "95             40.722055             -73.989111   19318    Customer   \n",
              "96             40.732219             -73.981656   18586  Subscriber   \n",
              "97             40.691652             -73.999979   19878    Customer   \n",
              "98             40.683826             -73.976323   19810  Subscriber   \n",
              "99             40.691652             -73.999979   17770    Customer   \n",
              "\n",
              "    birth year  gender  \n",
              "0       1983.0       1  \n",
              "1       1984.0       1  \n",
              "2          NaN       0  \n",
              "3       1960.0       1  \n",
              "4       1983.0       1  \n",
              "..         ...     ...  \n",
              "95         NaN       0  \n",
              "96      1983.0       1  \n",
              "97         NaN       0  \n",
              "98      1985.0       1  \n",
              "99         NaN       0  \n",
              "\n",
              "[100 rows x 15 columns]"
            ],
            "text/html": [
              "\n",
              "\n",
              "  <div id=\"df-210c5950-da7d-4349-ae14-a4cf8f180665\">\n",
              "    <div class=\"colab-df-container\">\n",
              "      <div>\n",
              "<style scoped>\n",
              "    .dataframe tbody tr th:only-of-type {\n",
              "        vertical-align: middle;\n",
              "    }\n",
              "\n",
              "    .dataframe tbody tr th {\n",
              "        vertical-align: top;\n",
              "    }\n",
              "\n",
              "    .dataframe thead th {\n",
              "        text-align: right;\n",
              "    }\n",
              "</style>\n",
              "<table border=\"1\" class=\"dataframe\">\n",
              "  <thead>\n",
              "    <tr style=\"text-align: right;\">\n",
              "      <th></th>\n",
              "      <th>tripduration</th>\n",
              "      <th>starttime</th>\n",
              "      <th>stoptime</th>\n",
              "      <th>start station id</th>\n",
              "      <th>start station name</th>\n",
              "      <th>start station latitude</th>\n",
              "      <th>start station longitude</th>\n",
              "      <th>end station id</th>\n",
              "      <th>end station name</th>\n",
              "      <th>end station latitude</th>\n",
              "      <th>end station longitude</th>\n",
              "      <th>bikeid</th>\n",
              "      <th>usertype</th>\n",
              "      <th>birth year</th>\n",
              "      <th>gender</th>\n",
              "    </tr>\n",
              "  </thead>\n",
              "  <tbody>\n",
              "    <tr>\n",
              "      <th>0</th>\n",
              "      <td>695</td>\n",
              "      <td>2013-06-01 00:00:01</td>\n",
              "      <td>2013-06-01 00:11:36</td>\n",
              "      <td>444</td>\n",
              "      <td>Broadway &amp; W 24 St</td>\n",
              "      <td>40.742354</td>\n",
              "      <td>-73.989151</td>\n",
              "      <td>434.0</td>\n",
              "      <td>9 Ave &amp; W 18 St</td>\n",
              "      <td>40.743174</td>\n",
              "      <td>-74.003664</td>\n",
              "      <td>19678</td>\n",
              "      <td>Subscriber</td>\n",
              "      <td>1983.0</td>\n",
              "      <td>1</td>\n",
              "    </tr>\n",
              "    <tr>\n",
              "      <th>1</th>\n",
              "      <td>693</td>\n",
              "      <td>2013-06-01 00:00:08</td>\n",
              "      <td>2013-06-01 00:11:41</td>\n",
              "      <td>444</td>\n",
              "      <td>Broadway &amp; W 24 St</td>\n",
              "      <td>40.742354</td>\n",
              "      <td>-73.989151</td>\n",
              "      <td>434.0</td>\n",
              "      <td>9 Ave &amp; W 18 St</td>\n",
              "      <td>40.743174</td>\n",
              "      <td>-74.003664</td>\n",
              "      <td>16649</td>\n",
              "      <td>Subscriber</td>\n",
              "      <td>1984.0</td>\n",
              "      <td>1</td>\n",
              "    </tr>\n",
              "    <tr>\n",
              "      <th>2</th>\n",
              "      <td>2059</td>\n",
              "      <td>2013-06-01 00:00:44</td>\n",
              "      <td>2013-06-01 00:35:03</td>\n",
              "      <td>406</td>\n",
              "      <td>Hicks St &amp; Montague St</td>\n",
              "      <td>40.695128</td>\n",
              "      <td>-73.995951</td>\n",
              "      <td>406.0</td>\n",
              "      <td>Hicks St &amp; Montague St</td>\n",
              "      <td>40.695128</td>\n",
              "      <td>-73.995951</td>\n",
              "      <td>19599</td>\n",
              "      <td>Customer</td>\n",
              "      <td>NaN</td>\n",
              "      <td>0</td>\n",
              "    </tr>\n",
              "    <tr>\n",
              "      <th>3</th>\n",
              "      <td>123</td>\n",
              "      <td>2013-06-01 00:01:04</td>\n",
              "      <td>2013-06-01 00:03:07</td>\n",
              "      <td>475</td>\n",
              "      <td>E 15 St &amp; Irving Pl</td>\n",
              "      <td>40.735243</td>\n",
              "      <td>-73.987586</td>\n",
              "      <td>262.0</td>\n",
              "      <td>Washington Park</td>\n",
              "      <td>40.691782</td>\n",
              "      <td>-73.973730</td>\n",
              "      <td>16352</td>\n",
              "      <td>Subscriber</td>\n",
              "      <td>1960.0</td>\n",
              "      <td>1</td>\n",
              "    </tr>\n",
              "    <tr>\n",
              "      <th>4</th>\n",
              "      <td>1521</td>\n",
              "      <td>2013-06-01 00:01:22</td>\n",
              "      <td>2013-06-01 00:26:43</td>\n",
              "      <td>2008</td>\n",
              "      <td>Little West St &amp; 1 Pl</td>\n",
              "      <td>40.705693</td>\n",
              "      <td>-74.016777</td>\n",
              "      <td>310.0</td>\n",
              "      <td>State St &amp; Smith St</td>\n",
              "      <td>40.689269</td>\n",
              "      <td>-73.989129</td>\n",
              "      <td>15567</td>\n",
              "      <td>Subscriber</td>\n",
              "      <td>1983.0</td>\n",
              "      <td>1</td>\n",
              "    </tr>\n",
              "    <tr>\n",
              "      <th>...</th>\n",
              "      <td>...</td>\n",
              "      <td>...</td>\n",
              "      <td>...</td>\n",
              "      <td>...</td>\n",
              "      <td>...</td>\n",
              "      <td>...</td>\n",
              "      <td>...</td>\n",
              "      <td>...</td>\n",
              "      <td>...</td>\n",
              "      <td>...</td>\n",
              "      <td>...</td>\n",
              "      <td>...</td>\n",
              "      <td>...</td>\n",
              "      <td>...</td>\n",
              "      <td>...</td>\n",
              "    </tr>\n",
              "    <tr>\n",
              "      <th>95</th>\n",
              "      <td>8299</td>\n",
              "      <td>2013-06-01 00:35:51</td>\n",
              "      <td>2013-06-01 02:54:10</td>\n",
              "      <td>481</td>\n",
              "      <td>S 3 St &amp; Bedford Ave</td>\n",
              "      <td>40.712605</td>\n",
              "      <td>-73.962644</td>\n",
              "      <td>312.0</td>\n",
              "      <td>Allen St &amp; Stanton St</td>\n",
              "      <td>40.722055</td>\n",
              "      <td>-73.989111</td>\n",
              "      <td>19318</td>\n",
              "      <td>Customer</td>\n",
              "      <td>NaN</td>\n",
              "      <td>0</td>\n",
              "    </tr>\n",
              "    <tr>\n",
              "      <th>96</th>\n",
              "      <td>357</td>\n",
              "      <td>2013-06-01 00:36:02</td>\n",
              "      <td>2013-06-01 00:41:59</td>\n",
              "      <td>439</td>\n",
              "      <td>E 4 St &amp; 2 Ave</td>\n",
              "      <td>40.726281</td>\n",
              "      <td>-73.989780</td>\n",
              "      <td>504.0</td>\n",
              "      <td>1 Ave &amp; E 16 St</td>\n",
              "      <td>40.732219</td>\n",
              "      <td>-73.981656</td>\n",
              "      <td>18586</td>\n",
              "      <td>Subscriber</td>\n",
              "      <td>1983.0</td>\n",
              "      <td>1</td>\n",
              "    </tr>\n",
              "    <tr>\n",
              "      <th>97</th>\n",
              "      <td>2215</td>\n",
              "      <td>2013-06-01 00:37:15</td>\n",
              "      <td>2013-06-01 01:14:10</td>\n",
              "      <td>157</td>\n",
              "      <td>Henry St &amp; Atlantic Ave</td>\n",
              "      <td>40.690893</td>\n",
              "      <td>-73.996123</td>\n",
              "      <td>398.0</td>\n",
              "      <td>Atlantic Ave &amp; Furman St</td>\n",
              "      <td>40.691652</td>\n",
              "      <td>-73.999979</td>\n",
              "      <td>19878</td>\n",
              "      <td>Customer</td>\n",
              "      <td>NaN</td>\n",
              "      <td>0</td>\n",
              "    </tr>\n",
              "    <tr>\n",
              "      <th>98</th>\n",
              "      <td>915</td>\n",
              "      <td>2013-06-01 00:37:56</td>\n",
              "      <td>2013-06-01 00:53:11</td>\n",
              "      <td>143</td>\n",
              "      <td>Clinton St &amp; Joralemon St</td>\n",
              "      <td>40.692395</td>\n",
              "      <td>-73.993379</td>\n",
              "      <td>83.0</td>\n",
              "      <td>Atlantic Ave &amp; Fort Greene Pl</td>\n",
              "      <td>40.683826</td>\n",
              "      <td>-73.976323</td>\n",
              "      <td>19810</td>\n",
              "      <td>Subscriber</td>\n",
              "      <td>1985.0</td>\n",
              "      <td>1</td>\n",
              "    </tr>\n",
              "    <tr>\n",
              "      <th>99</th>\n",
              "      <td>2184</td>\n",
              "      <td>2013-06-01 00:38:00</td>\n",
              "      <td>2013-06-01 01:14:24</td>\n",
              "      <td>157</td>\n",
              "      <td>Henry St &amp; Atlantic Ave</td>\n",
              "      <td>40.690893</td>\n",
              "      <td>-73.996123</td>\n",
              "      <td>398.0</td>\n",
              "      <td>Atlantic Ave &amp; Furman St</td>\n",
              "      <td>40.691652</td>\n",
              "      <td>-73.999979</td>\n",
              "      <td>17770</td>\n",
              "      <td>Customer</td>\n",
              "      <td>NaN</td>\n",
              "      <td>0</td>\n",
              "    </tr>\n",
              "  </tbody>\n",
              "</table>\n",
              "<p>100 rows × 15 columns</p>\n",
              "</div>\n",
              "      <button class=\"colab-df-convert\" onclick=\"convertToInteractive('df-210c5950-da7d-4349-ae14-a4cf8f180665')\"\n",
              "              title=\"Convert this dataframe to an interactive table.\"\n",
              "              style=\"display:none;\">\n",
              "\n",
              "  <svg xmlns=\"http://www.w3.org/2000/svg\" height=\"24px\"viewBox=\"0 0 24 24\"\n",
              "       width=\"24px\">\n",
              "    <path d=\"M0 0h24v24H0V0z\" fill=\"none\"/>\n",
              "    <path d=\"M18.56 5.44l.94 2.06.94-2.06 2.06-.94-2.06-.94-.94-2.06-.94 2.06-2.06.94zm-11 1L8.5 8.5l.94-2.06 2.06-.94-2.06-.94L8.5 2.5l-.94 2.06-2.06.94zm10 10l.94 2.06.94-2.06 2.06-.94-2.06-.94-.94-2.06-.94 2.06-2.06.94z\"/><path d=\"M17.41 7.96l-1.37-1.37c-.4-.4-.92-.59-1.43-.59-.52 0-1.04.2-1.43.59L10.3 9.45l-7.72 7.72c-.78.78-.78 2.05 0 2.83L4 21.41c.39.39.9.59 1.41.59.51 0 1.02-.2 1.41-.59l7.78-7.78 2.81-2.81c.8-.78.8-2.07 0-2.86zM5.41 20L4 18.59l7.72-7.72 1.47 1.35L5.41 20z\"/>\n",
              "  </svg>\n",
              "      </button>\n",
              "\n",
              "\n",
              "\n",
              "    <div id=\"df-40412bee-cde1-4707-82e0-872d9825d784\">\n",
              "      <button class=\"colab-df-quickchart\" onclick=\"quickchart('df-40412bee-cde1-4707-82e0-872d9825d784')\"\n",
              "              title=\"Suggest charts.\"\n",
              "              style=\"display:none;\">\n",
              "\n",
              "<svg xmlns=\"http://www.w3.org/2000/svg\" height=\"24px\"viewBox=\"0 0 24 24\"\n",
              "     width=\"24px\">\n",
              "    <g>\n",
              "        <path d=\"M19 3H5c-1.1 0-2 .9-2 2v14c0 1.1.9 2 2 2h14c1.1 0 2-.9 2-2V5c0-1.1-.9-2-2-2zM9 17H7v-7h2v7zm4 0h-2V7h2v10zm4 0h-2v-4h2v4z\"/>\n",
              "    </g>\n",
              "</svg>\n",
              "      </button>\n",
              "    </div>\n",
              "\n",
              "<style>\n",
              "  .colab-df-quickchart {\n",
              "    background-color: #E8F0FE;\n",
              "    border: none;\n",
              "    border-radius: 50%;\n",
              "    cursor: pointer;\n",
              "    display: none;\n",
              "    fill: #1967D2;\n",
              "    height: 32px;\n",
              "    padding: 0 0 0 0;\n",
              "    width: 32px;\n",
              "  }\n",
              "\n",
              "  .colab-df-quickchart:hover {\n",
              "    background-color: #E2EBFA;\n",
              "    box-shadow: 0px 1px 2px rgba(60, 64, 67, 0.3), 0px 1px 3px 1px rgba(60, 64, 67, 0.15);\n",
              "    fill: #174EA6;\n",
              "  }\n",
              "\n",
              "  [theme=dark] .colab-df-quickchart {\n",
              "    background-color: #3B4455;\n",
              "    fill: #D2E3FC;\n",
              "  }\n",
              "\n",
              "  [theme=dark] .colab-df-quickchart:hover {\n",
              "    background-color: #434B5C;\n",
              "    box-shadow: 0px 1px 3px 1px rgba(0, 0, 0, 0.15);\n",
              "    filter: drop-shadow(0px 1px 2px rgba(0, 0, 0, 0.3));\n",
              "    fill: #FFFFFF;\n",
              "  }\n",
              "</style>\n",
              "\n",
              "    <script>\n",
              "      async function quickchart(key) {\n",
              "        const containerElement = document.querySelector('#' + key);\n",
              "        const charts = await google.colab.kernel.invokeFunction(\n",
              "            'suggestCharts', [key], {});\n",
              "      }\n",
              "    </script>\n",
              "\n",
              "      <script>\n",
              "\n",
              "function displayQuickchartButton(domScope) {\n",
              "  let quickchartButtonEl =\n",
              "    domScope.querySelector('#df-40412bee-cde1-4707-82e0-872d9825d784 button.colab-df-quickchart');\n",
              "  quickchartButtonEl.style.display =\n",
              "    google.colab.kernel.accessAllowed ? 'block' : 'none';\n",
              "}\n",
              "\n",
              "        displayQuickchartButton(document);\n",
              "      </script>\n",
              "      <style>\n",
              "    .colab-df-container {\n",
              "      display:flex;\n",
              "      flex-wrap:wrap;\n",
              "      gap: 12px;\n",
              "    }\n",
              "\n",
              "    .colab-df-convert {\n",
              "      background-color: #E8F0FE;\n",
              "      border: none;\n",
              "      border-radius: 50%;\n",
              "      cursor: pointer;\n",
              "      display: none;\n",
              "      fill: #1967D2;\n",
              "      height: 32px;\n",
              "      padding: 0 0 0 0;\n",
              "      width: 32px;\n",
              "    }\n",
              "\n",
              "    .colab-df-convert:hover {\n",
              "      background-color: #E2EBFA;\n",
              "      box-shadow: 0px 1px 2px rgba(60, 64, 67, 0.3), 0px 1px 3px 1px rgba(60, 64, 67, 0.15);\n",
              "      fill: #174EA6;\n",
              "    }\n",
              "\n",
              "    [theme=dark] .colab-df-convert {\n",
              "      background-color: #3B4455;\n",
              "      fill: #D2E3FC;\n",
              "    }\n",
              "\n",
              "    [theme=dark] .colab-df-convert:hover {\n",
              "      background-color: #434B5C;\n",
              "      box-shadow: 0px 1px 3px 1px rgba(0, 0, 0, 0.15);\n",
              "      filter: drop-shadow(0px 1px 2px rgba(0, 0, 0, 0.3));\n",
              "      fill: #FFFFFF;\n",
              "    }\n",
              "  </style>\n",
              "\n",
              "      <script>\n",
              "        const buttonEl =\n",
              "          document.querySelector('#df-210c5950-da7d-4349-ae14-a4cf8f180665 button.colab-df-convert');\n",
              "        buttonEl.style.display =\n",
              "          google.colab.kernel.accessAllowed ? 'block' : 'none';\n",
              "\n",
              "        async function convertToInteractive(key) {\n",
              "          const element = document.querySelector('#df-210c5950-da7d-4349-ae14-a4cf8f180665');\n",
              "          const dataTable =\n",
              "            await google.colab.kernel.invokeFunction('convertToInteractive',\n",
              "                                                     [key], {});\n",
              "          if (!dataTable) return;\n",
              "\n",
              "          const docLinkHtml = 'Like what you see? Visit the ' +\n",
              "            '<a target=\"_blank\" href=https://colab.research.google.com/notebooks/data_table.ipynb>data table notebook</a>'\n",
              "            + ' to learn more about interactive tables.';\n",
              "          element.innerHTML = '';\n",
              "          dataTable['output_type'] = 'display_data';\n",
              "          await google.colab.output.renderOutput(dataTable, element);\n",
              "          const docLink = document.createElement('div');\n",
              "          docLink.innerHTML = docLinkHtml;\n",
              "          element.appendChild(docLink);\n",
              "        }\n",
              "      </script>\n",
              "    </div>\n",
              "  </div>\n"
            ]
          },
          "metadata": {},
          "execution_count": 3
        }
      ]
    },
    {
      "cell_type": "code",
      "source": [
        "df.groupby('usertype')['bikeid'].count()"
      ],
      "metadata": {
        "colab": {
          "base_uri": "https://localhost:8080/"
        },
        "id": "Zq0WFev9hjEd",
        "outputId": "bae844a0-a2b9-44a7-c7d5-29f983bb59e9"
      },
      "execution_count": 4,
      "outputs": [
        {
          "output_type": "execute_result",
          "data": {
            "text/plain": [
              "usertype\n",
              "Customer      240319\n",
              "Subscriber    337384\n",
              "Name: bikeid, dtype: int64"
            ]
          },
          "metadata": {},
          "execution_count": 4
        }
      ]
    },
    {
      "cell_type": "markdown",
      "source": [
        "- tripduration is measured in seconds\n",
        "- Time is military time\n",
        "- Gender (Zero=unknown; 1=male; 2=female) (After research) Foot note\n",
        "- Remove zeros for data cleaning"
      ],
      "metadata": {
        "id": "sfBRvOuyfwxA"
      }
    },
    {
      "cell_type": "code",
      "source": [
        "df.gender.unique()"
      ],
      "metadata": {
        "colab": {
          "base_uri": "https://localhost:8080/"
        },
        "id": "igPaadjZhA8I",
        "outputId": "99f593ad-0bb0-4b45-e9be-1080a5e50425"
      },
      "execution_count": 5,
      "outputs": [
        {
          "output_type": "execute_result",
          "data": {
            "text/plain": [
              "array([1, 0, 2])"
            ]
          },
          "metadata": {},
          "execution_count": 5
        }
      ]
    },
    {
      "cell_type": "markdown",
      "source": [
        "# Data cleaning\n",
        "- Removed value 0 from column gender  "
      ],
      "metadata": {
        "id": "zNl74qMFjIfJ"
      }
    },
    {
      "cell_type": "code",
      "source": [
        "df1 = df.loc[df['gender']!=0]\n",
        "display(df1)"
      ],
      "metadata": {
        "colab": {
          "base_uri": "https://localhost:8080/",
          "height": 676
        },
        "id": "5zgCr2gjh3g6",
        "outputId": "e2d51457-895d-453f-c409-84cb050fa236"
      },
      "execution_count": 6,
      "outputs": [
        {
          "output_type": "display_data",
          "data": {
            "text/plain": [
              "        tripduration            starttime             stoptime  \\\n",
              "0                695  2013-06-01 00:00:01  2013-06-01 00:11:36   \n",
              "1                693  2013-06-01 00:00:08  2013-06-01 00:11:41   \n",
              "3                123  2013-06-01 00:01:04  2013-06-01 00:03:07   \n",
              "4               1521  2013-06-01 00:01:22  2013-06-01 00:26:43   \n",
              "6               2057  2013-06-01 00:02:33  2013-06-01 00:36:50   \n",
              "...              ...                  ...                  ...   \n",
              "577687           436  2013-06-30 23:58:09  2013-07-01 00:05:25   \n",
              "577689           185  2013-06-30 23:57:52  2013-07-01 00:00:57   \n",
              "577690           595  2013-06-30 23:58:39  2013-07-01 00:08:34   \n",
              "577698           925  2013-06-30 23:59:27  2013-07-01 00:14:52   \n",
              "577700           161  2013-06-30 23:59:33  2013-07-01 00:02:14   \n",
              "\n",
              "        start station id           start station name  start station latitude  \\\n",
              "0                    444           Broadway & W 24 St               40.742354   \n",
              "1                    444           Broadway & W 24 St               40.742354   \n",
              "3                    475          E 15 St & Irving Pl               40.735243   \n",
              "4                   2008        Little West St & 1 Pl               40.705693   \n",
              "6                    285           Broadway & E 14 St               40.734546   \n",
              "...                  ...                          ...                     ...   \n",
              "577687               161        LaGuardia Pl & W 3 St               40.729170   \n",
              "577689               323  Lawrence St & Willoughby St               40.692362   \n",
              "577690               360         William St & Pine St               40.707179   \n",
              "577698               509              9 Ave & W 22 St               40.745497   \n",
              "577700               443         Bedford Ave & S 9 St               40.708531   \n",
              "\n",
              "        start station longitude  end station id  \\\n",
              "0                    -73.989151           434.0   \n",
              "1                    -73.989151           434.0   \n",
              "3                    -73.987586           262.0   \n",
              "4                    -74.016777           310.0   \n",
              "6                    -73.990741           532.0   \n",
              "...                         ...             ...   \n",
              "577687               -73.998102           403.0   \n",
              "577689               -73.986317           293.0   \n",
              "577690               -74.008873           329.0   \n",
              "577698               -74.001971           462.0   \n",
              "577700               -73.964090           282.0   \n",
              "\n",
              "                     end station name  end station latitude  \\\n",
              "0                     9 Ave & W 18 St             40.743174   \n",
              "1                     9 Ave & W 18 St             40.743174   \n",
              "3                     Washington Park             40.691782   \n",
              "4                 State St & Smith St             40.689269   \n",
              "6                     S 5 Pl & S 5 St             40.710451   \n",
              "...                               ...                   ...   \n",
              "577687                 E 2 St & 2 Ave             40.725029   \n",
              "577689          Lafayette St & E 8 St             40.730207   \n",
              "577690  Greenwich St & North Moore St             40.720152   \n",
              "577698               W 22 St & 10 Ave             40.746920   \n",
              "577700             Kent Ave & S 11 St             40.707645   \n",
              "\n",
              "        end station longitude  bikeid    usertype  birth year  gender  \n",
              "0                  -74.003664   19678  Subscriber      1983.0       1  \n",
              "1                  -74.003664   16649  Subscriber      1984.0       1  \n",
              "3                  -73.973730   16352  Subscriber      1960.0       1  \n",
              "4                  -73.989129   15567  Subscriber      1983.0       1  \n",
              "6                  -73.960876   15693  Subscriber      1991.0       1  \n",
              "...                       ...     ...         ...         ...     ...  \n",
              "577687             -73.990697   19454  Subscriber      1982.0       1  \n",
              "577689             -73.991026   16746  Subscriber      1982.0       1  \n",
              "577690             -74.010365   19290  Subscriber      1985.0       1  \n",
              "577698             -74.004519   15250  Subscriber      1964.0       1  \n",
              "577700             -73.968415   18910  Subscriber      1972.0       2  \n",
              "\n",
              "[336955 rows x 15 columns]"
            ],
            "text/html": [
              "\n",
              "\n",
              "  <div id=\"df-f6e0480e-1a2e-46f7-af53-c1369728e6f4\">\n",
              "    <div class=\"colab-df-container\">\n",
              "      <div>\n",
              "<style scoped>\n",
              "    .dataframe tbody tr th:only-of-type {\n",
              "        vertical-align: middle;\n",
              "    }\n",
              "\n",
              "    .dataframe tbody tr th {\n",
              "        vertical-align: top;\n",
              "    }\n",
              "\n",
              "    .dataframe thead th {\n",
              "        text-align: right;\n",
              "    }\n",
              "</style>\n",
              "<table border=\"1\" class=\"dataframe\">\n",
              "  <thead>\n",
              "    <tr style=\"text-align: right;\">\n",
              "      <th></th>\n",
              "      <th>tripduration</th>\n",
              "      <th>starttime</th>\n",
              "      <th>stoptime</th>\n",
              "      <th>start station id</th>\n",
              "      <th>start station name</th>\n",
              "      <th>start station latitude</th>\n",
              "      <th>start station longitude</th>\n",
              "      <th>end station id</th>\n",
              "      <th>end station name</th>\n",
              "      <th>end station latitude</th>\n",
              "      <th>end station longitude</th>\n",
              "      <th>bikeid</th>\n",
              "      <th>usertype</th>\n",
              "      <th>birth year</th>\n",
              "      <th>gender</th>\n",
              "    </tr>\n",
              "  </thead>\n",
              "  <tbody>\n",
              "    <tr>\n",
              "      <th>0</th>\n",
              "      <td>695</td>\n",
              "      <td>2013-06-01 00:00:01</td>\n",
              "      <td>2013-06-01 00:11:36</td>\n",
              "      <td>444</td>\n",
              "      <td>Broadway &amp; W 24 St</td>\n",
              "      <td>40.742354</td>\n",
              "      <td>-73.989151</td>\n",
              "      <td>434.0</td>\n",
              "      <td>9 Ave &amp; W 18 St</td>\n",
              "      <td>40.743174</td>\n",
              "      <td>-74.003664</td>\n",
              "      <td>19678</td>\n",
              "      <td>Subscriber</td>\n",
              "      <td>1983.0</td>\n",
              "      <td>1</td>\n",
              "    </tr>\n",
              "    <tr>\n",
              "      <th>1</th>\n",
              "      <td>693</td>\n",
              "      <td>2013-06-01 00:00:08</td>\n",
              "      <td>2013-06-01 00:11:41</td>\n",
              "      <td>444</td>\n",
              "      <td>Broadway &amp; W 24 St</td>\n",
              "      <td>40.742354</td>\n",
              "      <td>-73.989151</td>\n",
              "      <td>434.0</td>\n",
              "      <td>9 Ave &amp; W 18 St</td>\n",
              "      <td>40.743174</td>\n",
              "      <td>-74.003664</td>\n",
              "      <td>16649</td>\n",
              "      <td>Subscriber</td>\n",
              "      <td>1984.0</td>\n",
              "      <td>1</td>\n",
              "    </tr>\n",
              "    <tr>\n",
              "      <th>3</th>\n",
              "      <td>123</td>\n",
              "      <td>2013-06-01 00:01:04</td>\n",
              "      <td>2013-06-01 00:03:07</td>\n",
              "      <td>475</td>\n",
              "      <td>E 15 St &amp; Irving Pl</td>\n",
              "      <td>40.735243</td>\n",
              "      <td>-73.987586</td>\n",
              "      <td>262.0</td>\n",
              "      <td>Washington Park</td>\n",
              "      <td>40.691782</td>\n",
              "      <td>-73.973730</td>\n",
              "      <td>16352</td>\n",
              "      <td>Subscriber</td>\n",
              "      <td>1960.0</td>\n",
              "      <td>1</td>\n",
              "    </tr>\n",
              "    <tr>\n",
              "      <th>4</th>\n",
              "      <td>1521</td>\n",
              "      <td>2013-06-01 00:01:22</td>\n",
              "      <td>2013-06-01 00:26:43</td>\n",
              "      <td>2008</td>\n",
              "      <td>Little West St &amp; 1 Pl</td>\n",
              "      <td>40.705693</td>\n",
              "      <td>-74.016777</td>\n",
              "      <td>310.0</td>\n",
              "      <td>State St &amp; Smith St</td>\n",
              "      <td>40.689269</td>\n",
              "      <td>-73.989129</td>\n",
              "      <td>15567</td>\n",
              "      <td>Subscriber</td>\n",
              "      <td>1983.0</td>\n",
              "      <td>1</td>\n",
              "    </tr>\n",
              "    <tr>\n",
              "      <th>6</th>\n",
              "      <td>2057</td>\n",
              "      <td>2013-06-01 00:02:33</td>\n",
              "      <td>2013-06-01 00:36:50</td>\n",
              "      <td>285</td>\n",
              "      <td>Broadway &amp; E 14 St</td>\n",
              "      <td>40.734546</td>\n",
              "      <td>-73.990741</td>\n",
              "      <td>532.0</td>\n",
              "      <td>S 5 Pl &amp; S 5 St</td>\n",
              "      <td>40.710451</td>\n",
              "      <td>-73.960876</td>\n",
              "      <td>15693</td>\n",
              "      <td>Subscriber</td>\n",
              "      <td>1991.0</td>\n",
              "      <td>1</td>\n",
              "    </tr>\n",
              "    <tr>\n",
              "      <th>...</th>\n",
              "      <td>...</td>\n",
              "      <td>...</td>\n",
              "      <td>...</td>\n",
              "      <td>...</td>\n",
              "      <td>...</td>\n",
              "      <td>...</td>\n",
              "      <td>...</td>\n",
              "      <td>...</td>\n",
              "      <td>...</td>\n",
              "      <td>...</td>\n",
              "      <td>...</td>\n",
              "      <td>...</td>\n",
              "      <td>...</td>\n",
              "      <td>...</td>\n",
              "      <td>...</td>\n",
              "    </tr>\n",
              "    <tr>\n",
              "      <th>577687</th>\n",
              "      <td>436</td>\n",
              "      <td>2013-06-30 23:58:09</td>\n",
              "      <td>2013-07-01 00:05:25</td>\n",
              "      <td>161</td>\n",
              "      <td>LaGuardia Pl &amp; W 3 St</td>\n",
              "      <td>40.729170</td>\n",
              "      <td>-73.998102</td>\n",
              "      <td>403.0</td>\n",
              "      <td>E 2 St &amp; 2 Ave</td>\n",
              "      <td>40.725029</td>\n",
              "      <td>-73.990697</td>\n",
              "      <td>19454</td>\n",
              "      <td>Subscriber</td>\n",
              "      <td>1982.0</td>\n",
              "      <td>1</td>\n",
              "    </tr>\n",
              "    <tr>\n",
              "      <th>577689</th>\n",
              "      <td>185</td>\n",
              "      <td>2013-06-30 23:57:52</td>\n",
              "      <td>2013-07-01 00:00:57</td>\n",
              "      <td>323</td>\n",
              "      <td>Lawrence St &amp; Willoughby St</td>\n",
              "      <td>40.692362</td>\n",
              "      <td>-73.986317</td>\n",
              "      <td>293.0</td>\n",
              "      <td>Lafayette St &amp; E 8 St</td>\n",
              "      <td>40.730207</td>\n",
              "      <td>-73.991026</td>\n",
              "      <td>16746</td>\n",
              "      <td>Subscriber</td>\n",
              "      <td>1982.0</td>\n",
              "      <td>1</td>\n",
              "    </tr>\n",
              "    <tr>\n",
              "      <th>577690</th>\n",
              "      <td>595</td>\n",
              "      <td>2013-06-30 23:58:39</td>\n",
              "      <td>2013-07-01 00:08:34</td>\n",
              "      <td>360</td>\n",
              "      <td>William St &amp; Pine St</td>\n",
              "      <td>40.707179</td>\n",
              "      <td>-74.008873</td>\n",
              "      <td>329.0</td>\n",
              "      <td>Greenwich St &amp; North Moore St</td>\n",
              "      <td>40.720152</td>\n",
              "      <td>-74.010365</td>\n",
              "      <td>19290</td>\n",
              "      <td>Subscriber</td>\n",
              "      <td>1985.0</td>\n",
              "      <td>1</td>\n",
              "    </tr>\n",
              "    <tr>\n",
              "      <th>577698</th>\n",
              "      <td>925</td>\n",
              "      <td>2013-06-30 23:59:27</td>\n",
              "      <td>2013-07-01 00:14:52</td>\n",
              "      <td>509</td>\n",
              "      <td>9 Ave &amp; W 22 St</td>\n",
              "      <td>40.745497</td>\n",
              "      <td>-74.001971</td>\n",
              "      <td>462.0</td>\n",
              "      <td>W 22 St &amp; 10 Ave</td>\n",
              "      <td>40.746920</td>\n",
              "      <td>-74.004519</td>\n",
              "      <td>15250</td>\n",
              "      <td>Subscriber</td>\n",
              "      <td>1964.0</td>\n",
              "      <td>1</td>\n",
              "    </tr>\n",
              "    <tr>\n",
              "      <th>577700</th>\n",
              "      <td>161</td>\n",
              "      <td>2013-06-30 23:59:33</td>\n",
              "      <td>2013-07-01 00:02:14</td>\n",
              "      <td>443</td>\n",
              "      <td>Bedford Ave &amp; S 9 St</td>\n",
              "      <td>40.708531</td>\n",
              "      <td>-73.964090</td>\n",
              "      <td>282.0</td>\n",
              "      <td>Kent Ave &amp; S 11 St</td>\n",
              "      <td>40.707645</td>\n",
              "      <td>-73.968415</td>\n",
              "      <td>18910</td>\n",
              "      <td>Subscriber</td>\n",
              "      <td>1972.0</td>\n",
              "      <td>2</td>\n",
              "    </tr>\n",
              "  </tbody>\n",
              "</table>\n",
              "<p>336955 rows × 15 columns</p>\n",
              "</div>\n",
              "      <button class=\"colab-df-convert\" onclick=\"convertToInteractive('df-f6e0480e-1a2e-46f7-af53-c1369728e6f4')\"\n",
              "              title=\"Convert this dataframe to an interactive table.\"\n",
              "              style=\"display:none;\">\n",
              "\n",
              "  <svg xmlns=\"http://www.w3.org/2000/svg\" height=\"24px\"viewBox=\"0 0 24 24\"\n",
              "       width=\"24px\">\n",
              "    <path d=\"M0 0h24v24H0V0z\" fill=\"none\"/>\n",
              "    <path d=\"M18.56 5.44l.94 2.06.94-2.06 2.06-.94-2.06-.94-.94-2.06-.94 2.06-2.06.94zm-11 1L8.5 8.5l.94-2.06 2.06-.94-2.06-.94L8.5 2.5l-.94 2.06-2.06.94zm10 10l.94 2.06.94-2.06 2.06-.94-2.06-.94-.94-2.06-.94 2.06-2.06.94z\"/><path d=\"M17.41 7.96l-1.37-1.37c-.4-.4-.92-.59-1.43-.59-.52 0-1.04.2-1.43.59L10.3 9.45l-7.72 7.72c-.78.78-.78 2.05 0 2.83L4 21.41c.39.39.9.59 1.41.59.51 0 1.02-.2 1.41-.59l7.78-7.78 2.81-2.81c.8-.78.8-2.07 0-2.86zM5.41 20L4 18.59l7.72-7.72 1.47 1.35L5.41 20z\"/>\n",
              "  </svg>\n",
              "      </button>\n",
              "\n",
              "\n",
              "\n",
              "    <div id=\"df-b1474554-6548-4578-85a5-4969577afa24\">\n",
              "      <button class=\"colab-df-quickchart\" onclick=\"quickchart('df-b1474554-6548-4578-85a5-4969577afa24')\"\n",
              "              title=\"Suggest charts.\"\n",
              "              style=\"display:none;\">\n",
              "\n",
              "<svg xmlns=\"http://www.w3.org/2000/svg\" height=\"24px\"viewBox=\"0 0 24 24\"\n",
              "     width=\"24px\">\n",
              "    <g>\n",
              "        <path d=\"M19 3H5c-1.1 0-2 .9-2 2v14c0 1.1.9 2 2 2h14c1.1 0 2-.9 2-2V5c0-1.1-.9-2-2-2zM9 17H7v-7h2v7zm4 0h-2V7h2v10zm4 0h-2v-4h2v4z\"/>\n",
              "    </g>\n",
              "</svg>\n",
              "      </button>\n",
              "    </div>\n",
              "\n",
              "<style>\n",
              "  .colab-df-quickchart {\n",
              "    background-color: #E8F0FE;\n",
              "    border: none;\n",
              "    border-radius: 50%;\n",
              "    cursor: pointer;\n",
              "    display: none;\n",
              "    fill: #1967D2;\n",
              "    height: 32px;\n",
              "    padding: 0 0 0 0;\n",
              "    width: 32px;\n",
              "  }\n",
              "\n",
              "  .colab-df-quickchart:hover {\n",
              "    background-color: #E2EBFA;\n",
              "    box-shadow: 0px 1px 2px rgba(60, 64, 67, 0.3), 0px 1px 3px 1px rgba(60, 64, 67, 0.15);\n",
              "    fill: #174EA6;\n",
              "  }\n",
              "\n",
              "  [theme=dark] .colab-df-quickchart {\n",
              "    background-color: #3B4455;\n",
              "    fill: #D2E3FC;\n",
              "  }\n",
              "\n",
              "  [theme=dark] .colab-df-quickchart:hover {\n",
              "    background-color: #434B5C;\n",
              "    box-shadow: 0px 1px 3px 1px rgba(0, 0, 0, 0.15);\n",
              "    filter: drop-shadow(0px 1px 2px rgba(0, 0, 0, 0.3));\n",
              "    fill: #FFFFFF;\n",
              "  }\n",
              "</style>\n",
              "\n",
              "    <script>\n",
              "      async function quickchart(key) {\n",
              "        const containerElement = document.querySelector('#' + key);\n",
              "        const charts = await google.colab.kernel.invokeFunction(\n",
              "            'suggestCharts', [key], {});\n",
              "      }\n",
              "    </script>\n",
              "\n",
              "      <script>\n",
              "\n",
              "function displayQuickchartButton(domScope) {\n",
              "  let quickchartButtonEl =\n",
              "    domScope.querySelector('#df-b1474554-6548-4578-85a5-4969577afa24 button.colab-df-quickchart');\n",
              "  quickchartButtonEl.style.display =\n",
              "    google.colab.kernel.accessAllowed ? 'block' : 'none';\n",
              "}\n",
              "\n",
              "        displayQuickchartButton(document);\n",
              "      </script>\n",
              "      <style>\n",
              "    .colab-df-container {\n",
              "      display:flex;\n",
              "      flex-wrap:wrap;\n",
              "      gap: 12px;\n",
              "    }\n",
              "\n",
              "    .colab-df-convert {\n",
              "      background-color: #E8F0FE;\n",
              "      border: none;\n",
              "      border-radius: 50%;\n",
              "      cursor: pointer;\n",
              "      display: none;\n",
              "      fill: #1967D2;\n",
              "      height: 32px;\n",
              "      padding: 0 0 0 0;\n",
              "      width: 32px;\n",
              "    }\n",
              "\n",
              "    .colab-df-convert:hover {\n",
              "      background-color: #E2EBFA;\n",
              "      box-shadow: 0px 1px 2px rgba(60, 64, 67, 0.3), 0px 1px 3px 1px rgba(60, 64, 67, 0.15);\n",
              "      fill: #174EA6;\n",
              "    }\n",
              "\n",
              "    [theme=dark] .colab-df-convert {\n",
              "      background-color: #3B4455;\n",
              "      fill: #D2E3FC;\n",
              "    }\n",
              "\n",
              "    [theme=dark] .colab-df-convert:hover {\n",
              "      background-color: #434B5C;\n",
              "      box-shadow: 0px 1px 3px 1px rgba(0, 0, 0, 0.15);\n",
              "      filter: drop-shadow(0px 1px 2px rgba(0, 0, 0, 0.3));\n",
              "      fill: #FFFFFF;\n",
              "    }\n",
              "  </style>\n",
              "\n",
              "      <script>\n",
              "        const buttonEl =\n",
              "          document.querySelector('#df-f6e0480e-1a2e-46f7-af53-c1369728e6f4 button.colab-df-convert');\n",
              "        buttonEl.style.display =\n",
              "          google.colab.kernel.accessAllowed ? 'block' : 'none';\n",
              "\n",
              "        async function convertToInteractive(key) {\n",
              "          const element = document.querySelector('#df-f6e0480e-1a2e-46f7-af53-c1369728e6f4');\n",
              "          const dataTable =\n",
              "            await google.colab.kernel.invokeFunction('convertToInteractive',\n",
              "                                                     [key], {});\n",
              "          if (!dataTable) return;\n",
              "\n",
              "          const docLinkHtml = 'Like what you see? Visit the ' +\n",
              "            '<a target=\"_blank\" href=https://colab.research.google.com/notebooks/data_table.ipynb>data table notebook</a>'\n",
              "            + ' to learn more about interactive tables.';\n",
              "          element.innerHTML = '';\n",
              "          dataTable['output_type'] = 'display_data';\n",
              "          await google.colab.output.renderOutput(dataTable, element);\n",
              "          const docLink = document.createElement('div');\n",
              "          docLink.innerHTML = docLinkHtml;\n",
              "          element.appendChild(docLink);\n",
              "        }\n",
              "      </script>\n",
              "    </div>\n",
              "  </div>\n"
            ]
          },
          "metadata": {}
        }
      ]
    },
    {
      "cell_type": "code",
      "source": [
        "df1.usertype.unique()"
      ],
      "metadata": {
        "colab": {
          "base_uri": "https://localhost:8080/"
        },
        "id": "7Xk6w0KLjhe1",
        "outputId": "c2c8ba9d-50e1-4bbb-ae01-6aa859cddebe"
      },
      "execution_count": 7,
      "outputs": [
        {
          "output_type": "execute_result",
          "data": {
            "text/plain": [
              "array(['Subscriber'], dtype=object)"
            ]
          },
          "metadata": {},
          "execution_count": 7
        }
      ]
    },
    {
      "cell_type": "markdown",
      "source": [
        "## Gather more information on users by Birth Year (Age)\n",
        "\n",
        "\n"
      ],
      "metadata": {
        "id": "6ngW0EpFYr5i"
      }
    },
    {
      "cell_type": "code",
      "source": [
        "df_Group_by_Age= df1.groupby('birth year')['bikeid'].count()\n",
        "display(df_Group_by_Age)"
      ],
      "metadata": {
        "colab": {
          "base_uri": "https://localhost:8080/",
          "height": 243
        },
        "id": "ixj2E-eDlRAy",
        "outputId": "8203efc0-640b-445a-af3c-3be7ce21f0ad"
      },
      "execution_count": 8,
      "outputs": [
        {
          "output_type": "display_data",
          "data": {
            "text/plain": [
              "birth year\n",
              "1899.0     33\n",
              "1900.0     83\n",
              "1901.0     14\n",
              "1913.0     13\n",
              "1920.0      5\n",
              "         ... \n",
              "1993.0    752\n",
              "1994.0    319\n",
              "1995.0    422\n",
              "1996.0    268\n",
              "1997.0    198\n",
              "Name: bikeid, Length: 76, dtype: int64"
            ]
          },
          "metadata": {}
        }
      ]
    },
    {
      "cell_type": "markdown",
      "source": [
        "## Data Cleaning to remove value outliers (years 1899-1939) from the dataset"
      ],
      "metadata": {
        "id": "4o5x-ZmoaWPR"
      }
    },
    {
      "cell_type": "code",
      "source": [
        "df_Group_by_Age1= df_Group_by_Age.loc['1940':'2023']\n",
        "display(df_Group_by_Age1)"
      ],
      "metadata": {
        "colab": {
          "base_uri": "https://localhost:8080/",
          "height": 1000
        },
        "id": "1Q99qPpb7WDX",
        "outputId": "8a0581e4-0cbc-49e7-e9b7-1e13d692eefb"
      },
      "execution_count": 9,
      "outputs": [
        {
          "output_type": "display_data",
          "data": {
            "text/plain": [
              "birth year\n",
              "1940.0      138\n",
              "1941.0      181\n",
              "1942.0      518\n",
              "1943.0      228\n",
              "1944.0      485\n",
              "1945.0      464\n",
              "1946.0      710\n",
              "1947.0      732\n",
              "1948.0     1270\n",
              "1949.0     1104\n",
              "1950.0     1804\n",
              "1951.0     1666\n",
              "1952.0     1743\n",
              "1953.0     2504\n",
              "1954.0     2576\n",
              "1955.0     2904\n",
              "1956.0     3587\n",
              "1957.0     3870\n",
              "1958.0     4315\n",
              "1959.0     4040\n",
              "1960.0     5046\n",
              "1961.0     5097\n",
              "1962.0     5719\n",
              "1963.0     5855\n",
              "1964.0     6210\n",
              "1965.0     6416\n",
              "1966.0     6761\n",
              "1967.0     6611\n",
              "1968.0     7248\n",
              "1969.0     9016\n",
              "1970.0     9849\n",
              "1971.0     7791\n",
              "1972.0     8810\n",
              "1973.0     8296\n",
              "1974.0     9765\n",
              "1975.0     9868\n",
              "1976.0    11123\n",
              "1977.0    10969\n",
              "1978.0    12353\n",
              "1979.0    12461\n",
              "1980.0    13822\n",
              "1981.0    14902\n",
              "1982.0    14427\n",
              "1983.0    16274\n",
              "1984.0    13565\n",
              "1985.0    15077\n",
              "1986.0    13065\n",
              "1987.0    10580\n",
              "1988.0     8450\n",
              "1989.0     6403\n",
              "1990.0     4547\n",
              "1991.0     2065\n",
              "1992.0     1201\n",
              "1993.0      752\n",
              "1994.0      319\n",
              "1995.0      422\n",
              "1996.0      268\n",
              "1997.0      198\n",
              "Name: bikeid, dtype: int64"
            ]
          },
          "metadata": {}
        }
      ]
    },
    {
      "cell_type": "code",
      "source": [
        "df_Group_by_Age1.plot(kind= 'bar', title= 'Total Number of Subscriptions by Birth Year', xlabel='Birth Year', ylabel= 'Total Subscriptions', color= ['red','green'], figsize= (20,10))"
      ],
      "metadata": {
        "colab": {
          "base_uri": "https://localhost:8080/",
          "height": 835
        },
        "id": "sFm8FofimGuO",
        "outputId": "3d352825-7cc4-4bcf-d6df-1a8777522105"
      },
      "execution_count": 10,
      "outputs": [
        {
          "output_type": "execute_result",
          "data": {
            "text/plain": [
              "<Axes: title={'center': 'Total Number of Subscriptions by Birth Year'}, xlabel='Birth Year', ylabel='Total Subscriptions'>"
            ]
          },
          "metadata": {},
          "execution_count": 10
        },
        {
          "output_type": "display_data",
          "data": {
            "text/plain": [
              "<Figure size 2000x1000 with 1 Axes>"
            ],
            "image/png": "[encoded data removed]"
          },
          "metadata": {}
        }
      ]
    },
    {
      "cell_type": "markdown",
      "source": [
        "## Gather more information on users by Gender"
      ],
      "metadata": {
        "id": "wOSPIFw5Y9tP"
      }
    },
    {
      "cell_type": "code",
      "source": [
        "Avg_Gender_Duration = df1.groupby('gender')['tripduration'].mean()\n",
        "Avg_Gender_Duration.index= ['Male','Female']\n",
        "display(Avg_Gender_Duration)"
      ],
      "metadata": {
        "colab": {
          "base_uri": "https://localhost:8080/",
          "height": 69
        },
        "id": "N-CwD7-JoMxu",
        "outputId": "3fb5aa64-d5f5-4cb9-da62-b111795b01c9"
      },
      "execution_count": 11,
      "outputs": [
        {
          "output_type": "display_data",
          "data": {
            "text/plain": [
              "Male      1063.548723\n",
              "Female    1233.249445\n",
              "Name: tripduration, dtype: float64"
            ]
          },
          "metadata": {}
        }
      ]
    },
    {
      "cell_type": "code",
      "source": [
        "Avg_Gender_Duration.plot(kind = 'bar', xlabel= 'Gender', ylabel= 'Average Seconds', title= 'Average Seconds Spent on Bike per Gender', color= ['blue','pink'])"
      ],
      "metadata": {
        "colab": {
          "base_uri": "https://localhost:8080/",
          "height": 525
        },
        "id": "WKyPHoQjxgdp",
        "outputId": "1cdbc064-8cf1-487c-943a-e76b3d024f5a"
      },
      "execution_count": 12,
      "outputs": [
        {
          "output_type": "execute_result",
          "data": {
            "text/plain": [
              "<Axes: title={'center': 'Average Seconds Spent on Bike per Gender'}, xlabel='Gender', ylabel='Average Seconds'>"
            ]
          },
          "metadata": {},
          "execution_count": 12
        },
        {
          "output_type": "display_data",
          "data": {
            "text/plain": [
              "<Figure size 640x480 with 1 Axes>"
            ],
            "image/png": "[encoded data removed]"
          },
          "metadata": {}
        }
      ]
    },
    {
      "cell_type": "code",
      "source": [
        "Total_Gender_Trips= df1.groupby('gender')['tripduration'].count()\n",
        "Total_Gender_Trips.index= ['Male','Female']\n",
        "display(Total_Gender_Trips)"
      ],
      "metadata": {
        "colab": {
          "base_uri": "https://localhost:8080/",
          "height": 69
        },
        "id": "kf1yimW8ofb9",
        "outputId": "c5bd3eff-60d4-4b75-b325-bd57e3abe927"
      },
      "execution_count": 13,
      "outputs": [
        {
          "output_type": "display_data",
          "data": {
            "text/plain": [
              "Male      263492\n",
              "Female     73463\n",
              "Name: tripduration, dtype: int64"
            ]
          },
          "metadata": {}
        }
      ]
    },
    {
      "cell_type": "code",
      "source": [
        "Total_Gender_Trips.plot(kind = 'bar', xlabel= 'Gender', ylabel= 'Total Trips', title= 'Total Trips on Bike per Gender', color= ['blue','pink'])"
      ],
      "metadata": {
        "colab": {
          "base_uri": "https://localhost:8080/",
          "height": 525
        },
        "id": "yRmv_bd00sJ3",
        "outputId": "f55df32d-0662-4858-c823-cb72935d5342"
      },
      "execution_count": 14,
      "outputs": [
        {
          "output_type": "execute_result",
          "data": {
            "text/plain": [
              "<Axes: title={'center': 'Total Trips on Bike per Gender'}, xlabel='Gender', ylabel='Total Trips'>"
            ]
          },
          "metadata": {},
          "execution_count": 14
        },
        {
          "output_type": "display_data",
          "data": {
            "text/plain": [
              "<Figure size 640x480 with 1 Axes>"
            ],
            "image/png": "[encoded data removed]"
          },
          "metadata": {}
        }
      ]
    },
    {
      "cell_type": "markdown",
      "source": [
        "\n",
        "- Females take longer trips on average but take fewer trips overall\n",
        "- Males take shorter trips on average but more trips in total"
      ],
      "metadata": {
        "id": "-vZI0csjws9f"
      }
    },
    {
      "cell_type": "markdown",
      "source": [
        "## Gather more information on popular start and end locations\n"
      ],
      "metadata": {
        "id": "WHF8bdc4ZDlX"
      }
    },
    {
      "cell_type": "code",
      "source": [
        "df1.groupby(['start station name','end station name']).count()"
      ],
      "metadata": {
        "colab": {
          "base_uri": "https://localhost:8080/",
          "height": 586
        },
        "id": "YY37zJyspnqF",
        "outputId": "efc516eb-9472-4616-f5da-629431e9b6c5"
      },
      "execution_count": 15,
      "outputs": [
        {
          "output_type": "execute_result",
          "data": {
            "text/plain": [
              "                                                 tripduration  starttime  \\\n",
              "start station name end station name                                        \n",
              "1 Ave & E 16 St    1 Ave & E 16 St                         43         43   \n",
              "                   1 Ave & E 18 St                         20         20   \n",
              "                   1 Ave & E 30 St                         23         23   \n",
              "                   1 Ave & E 44 St                         29         29   \n",
              "                   10 Ave & W 28 St                         3          3   \n",
              "...                                                       ...        ...   \n",
              "York St & Jay St   West Thames St                           2          2   \n",
              "                   William St & Pine St                     3          3   \n",
              "                   Willoughby Ave & Walworth St             8          8   \n",
              "                   Wythe Ave & Metropolitan Ave             9          9   \n",
              "                   York St & Jay St                        46         46   \n",
              "\n",
              "                                                 stoptime  start station id  \\\n",
              "start station name end station name                                           \n",
              "1 Ave & E 16 St    1 Ave & E 16 St                     43                43   \n",
              "                   1 Ave & E 18 St                     20                20   \n",
              "                   1 Ave & E 30 St                     23                23   \n",
              "                   1 Ave & E 44 St                     29                29   \n",
              "                   10 Ave & W 28 St                     3                 3   \n",
              "...                                                   ...               ...   \n",
              "York St & Jay St   West Thames St                       2                 2   \n",
              "                   William St & Pine St                 3                 3   \n",
              "                   Willoughby Ave & Walworth St         8                 8   \n",
              "                   Wythe Ave & Metropolitan Ave         9                 9   \n",
              "                   York St & Jay St                    46                46   \n",
              "\n",
              "                                                 start station latitude  \\\n",
              "start station name end station name                                       \n",
              "1 Ave & E 16 St    1 Ave & E 16 St                                   43   \n",
              "                   1 Ave & E 18 St                                   20   \n",
              "                   1 Ave & E 30 St                                   23   \n",
              "                   1 Ave & E 44 St                                   29   \n",
              "                   10 Ave & W 28 St                                   3   \n",
              "...                                                                 ...   \n",
              "York St & Jay St   West Thames St                                     2   \n",
              "                   William St & Pine St                               3   \n",
              "                   Willoughby Ave & Walworth St                       8   \n",
              "                   Wythe Ave & Metropolitan Ave                       9   \n",
              "                   York St & Jay St                                  46   \n",
              "\n",
              "                                                 start station longitude  \\\n",
              "start station name end station name                                        \n",
              "1 Ave & E 16 St    1 Ave & E 16 St                                    43   \n",
              "                   1 Ave & E 18 St                                    20   \n",
              "                   1 Ave & E 30 St                                    23   \n",
              "                   1 Ave & E 44 St                                    29   \n",
              "                   10 Ave & W 28 St                                    3   \n",
              "...                                                                  ...   \n",
              "York St & Jay St   West Thames St                                      2   \n",
              "                   William St & Pine St                                3   \n",
              "                   Willoughby Ave & Walworth St                        8   \n",
              "                   Wythe Ave & Metropolitan Ave                        9   \n",
              "                   York St & Jay St                                   46   \n",
              "\n",
              "                                                 end station id  \\\n",
              "start station name end station name                               \n",
              "1 Ave & E 16 St    1 Ave & E 16 St                           43   \n",
              "                   1 Ave & E 18 St                           20   \n",
              "                   1 Ave & E 30 St                           23   \n",
              "                   1 Ave & E 44 St                           29   \n",
              "                   10 Ave & W 28 St                           3   \n",
              "...                                                         ...   \n",
              "York St & Jay St   West Thames St                             2   \n",
              "                   William St & Pine St                       3   \n",
              "                   Willoughby Ave & Walworth St               8   \n",
              "                   Wythe Ave & Metropolitan Ave               9   \n",
              "                   York St & Jay St                          46   \n",
              "\n",
              "                                                 end station latitude  \\\n",
              "start station name end station name                                     \n",
              "1 Ave & E 16 St    1 Ave & E 16 St                                 43   \n",
              "                   1 Ave & E 18 St                                 20   \n",
              "                   1 Ave & E 30 St                                 23   \n",
              "                   1 Ave & E 44 St                                 29   \n",
              "                   10 Ave & W 28 St                                 3   \n",
              "...                                                               ...   \n",
              "York St & Jay St   West Thames St                                   2   \n",
              "                   William St & Pine St                             3   \n",
              "                   Willoughby Ave & Walworth St                     8   \n",
              "                   Wythe Ave & Metropolitan Ave                     9   \n",
              "                   York St & Jay St                                46   \n",
              "\n",
              "                                                 end station longitude  \\\n",
              "start station name end station name                                      \n",
              "1 Ave & E 16 St    1 Ave & E 16 St                                  43   \n",
              "                   1 Ave & E 18 St                                  20   \n",
              "                   1 Ave & E 30 St                                  23   \n",
              "                   1 Ave & E 44 St                                  29   \n",
              "                   10 Ave & W 28 St                                  3   \n",
              "...                                                                ...   \n",
              "York St & Jay St   West Thames St                                    2   \n",
              "                   William St & Pine St                              3   \n",
              "                   Willoughby Ave & Walworth St                      8   \n",
              "                   Wythe Ave & Metropolitan Ave                      9   \n",
              "                   York St & Jay St                                 46   \n",
              "\n",
              "                                                 bikeid  usertype  birth year  \\\n",
              "start station name end station name                                             \n",
              "1 Ave & E 16 St    1 Ave & E 16 St                   43        43          43   \n",
              "                   1 Ave & E 18 St                   20        20          20   \n",
              "                   1 Ave & E 30 St                   23        23          23   \n",
              "                   1 Ave & E 44 St                   29        29          29   \n",
              "                   10 Ave & W 28 St                   3         3           3   \n",
              "...                                                 ...       ...         ...   \n",
              "York St & Jay St   West Thames St                     2         2           2   \n",
              "                   William St & Pine St               3         3           3   \n",
              "                   Willoughby Ave & Walworth St       8         8           8   \n",
              "                   Wythe Ave & Metropolitan Ave       9         9           9   \n",
              "                   York St & Jay St                  46        46          46   \n",
              "\n",
              "                                                 gender  \n",
              "start station name end station name                      \n",
              "1 Ave & E 16 St    1 Ave & E 16 St                   43  \n",
              "                   1 Ave & E 18 St                   20  \n",
              "                   1 Ave & E 30 St                   23  \n",
              "                   1 Ave & E 44 St                   29  \n",
              "                   10 Ave & W 28 St                   3  \n",
              "...                                                 ...  \n",
              "York St & Jay St   West Thames St                     2  \n",
              "                   William St & Pine St               3  \n",
              "                   Willoughby Ave & Walworth St       8  \n",
              "                   Wythe Ave & Metropolitan Ave       9  \n",
              "                   York St & Jay St                  46  \n",
              "\n",
              "[68261 rows x 13 columns]"
            ],
            "text/html": [
              "\n",
              "\n",
              "  <div id=\"df-6b0e3df5-1223-4eac-8f19-433a93d82c46\">\n",
              "    <div class=\"colab-df-container\">\n",
              "      <div>\n",
              "<style scoped>\n",
              "    .dataframe tbody tr th:only-of-type {\n",
              "        vertical-align: middle;\n",
              "    }\n",
              "\n",
              "    .dataframe tbody tr th {\n",
              "        vertical-align: top;\n",
              "    }\n",
              "\n",
              "    .dataframe thead th {\n",
              "        text-align: right;\n",
              "    }\n",
              "</style>\n",
              "<table border=\"1\" class=\"dataframe\">\n",
              "  <thead>\n",
              "    <tr style=\"text-align: right;\">\n",
              "      <th></th>\n",
              "      <th></th>\n",
              "      <th>tripduration</th>\n",
              "      <th>starttime</th>\n",
              "      <th>stoptime</th>\n",
              "      <th>start station id</th>\n",
              "      <th>start station latitude</th>\n",
              "      <th>start station longitude</th>\n",
              "      <th>end station id</th>\n",
              "      <th>end station latitude</th>\n",
              "      <th>end station longitude</th>\n",
              "      <th>bikeid</th>\n",
              "      <th>usertype</th>\n",
              "      <th>birth year</th>\n",
              "      <th>gender</th>\n",
              "    </tr>\n",
              "    <tr>\n",
              "      <th>start station name</th>\n",
              "      <th>end station name</th>\n",
              "      <th></th>\n",
              "      <th></th>\n",
              "      <th></th>\n",
              "      <th></th>\n",
              "      <th></th>\n",
              "      <th></th>\n",
              "      <th></th>\n",
              "      <th></th>\n",
              "      <th></th>\n",
              "      <th></th>\n",
              "      <th></th>\n",
              "      <th></th>\n",
              "      <th></th>\n",
              "    </tr>\n",
              "  </thead>\n",
              "  <tbody>\n",
              "    <tr>\n",
              "      <th rowspan=\"5\" valign=\"top\">1 Ave &amp; E 16 St</th>\n",
              "      <th>1 Ave &amp; E 16 St</th>\n",
              "      <td>43</td>\n",
              "      <td>43</td>\n",
              "      <td>43</td>\n",
              "      <td>43</td>\n",
              "      <td>43</td>\n",
              "      <td>43</td>\n",
              "      <td>43</td>\n",
              "      <td>43</td>\n",
              "      <td>43</td>\n",
              "      <td>43</td>\n",
              "      <td>43</td>\n",
              "      <td>43</td>\n",
              "      <td>43</td>\n",
              "    </tr>\n",
              "    <tr>\n",
              "      <th>1 Ave &amp; E 18 St</th>\n",
              "      <td>20</td>\n",
              "      <td>20</td>\n",
              "      <td>20</td>\n",
              "      <td>20</td>\n",
              "      <td>20</td>\n",
              "      <td>20</td>\n",
              "      <td>20</td>\n",
              "      <td>20</td>\n",
              "      <td>20</td>\n",
              "      <td>20</td>\n",
              "      <td>20</td>\n",
              "      <td>20</td>\n",
              "      <td>20</td>\n",
              "    </tr>\n",
              "    <tr>\n",
              "      <th>1 Ave &amp; E 30 St</th>\n",
              "      <td>23</td>\n",
              "      <td>23</td>\n",
              "      <td>23</td>\n",
              "      <td>23</td>\n",
              "      <td>23</td>\n",
              "      <td>23</td>\n",
              "      <td>23</td>\n",
              "      <td>23</td>\n",
              "      <td>23</td>\n",
              "      <td>23</td>\n",
              "      <td>23</td>\n",
              "      <td>23</td>\n",
              "      <td>23</td>\n",
              "    </tr>\n",
              "    <tr>\n",
              "      <th>1 Ave &amp; E 44 St</th>\n",
              "      <td>29</td>\n",
              "      <td>29</td>\n",
              "      <td>29</td>\n",
              "      <td>29</td>\n",
              "      <td>29</td>\n",
              "      <td>29</td>\n",
              "      <td>29</td>\n",
              "      <td>29</td>\n",
              "      <td>29</td>\n",
              "      <td>29</td>\n",
              "      <td>29</td>\n",
              "      <td>29</td>\n",
              "      <td>29</td>\n",
              "    </tr>\n",
              "    <tr>\n",
              "      <th>10 Ave &amp; W 28 St</th>\n",
              "      <td>3</td>\n",
              "      <td>3</td>\n",
              "      <td>3</td>\n",
              "      <td>3</td>\n",
              "      <td>3</td>\n",
              "      <td>3</td>\n",
              "      <td>3</td>\n",
              "      <td>3</td>\n",
              "      <td>3</td>\n",
              "      <td>3</td>\n",
              "      <td>3</td>\n",
              "      <td>3</td>\n",
              "      <td>3</td>\n",
              "    </tr>\n",
              "    <tr>\n",
              "      <th>...</th>\n",
              "      <th>...</th>\n",
              "      <td>...</td>\n",
              "      <td>...</td>\n",
              "      <td>...</td>\n",
              "      <td>...</td>\n",
              "      <td>...</td>\n",
              "      <td>...</td>\n",
              "      <td>...</td>\n",
              "      <td>...</td>\n",
              "      <td>...</td>\n",
              "      <td>...</td>\n",
              "      <td>...</td>\n",
              "      <td>...</td>\n",
              "      <td>...</td>\n",
              "    </tr>\n",
              "    <tr>\n",
              "      <th rowspan=\"5\" valign=\"top\">York St &amp; Jay St</th>\n",
              "      <th>West Thames St</th>\n",
              "      <td>2</td>\n",
              "      <td>2</td>\n",
              "      <td>2</td>\n",
              "      <td>2</td>\n",
              "      <td>2</td>\n",
              "      <td>2</td>\n",
              "      <td>2</td>\n",
              "      <td>2</td>\n",
              "      <td>2</td>\n",
              "      <td>2</td>\n",
              "      <td>2</td>\n",
              "      <td>2</td>\n",
              "      <td>2</td>\n",
              "    </tr>\n",
              "    <tr>\n",
              "      <th>William St &amp; Pine St</th>\n",
              "      <td>3</td>\n",
              "      <td>3</td>\n",
              "      <td>3</td>\n",
              "      <td>3</td>\n",
              "      <td>3</td>\n",
              "      <td>3</td>\n",
              "      <td>3</td>\n",
              "      <td>3</td>\n",
              "      <td>3</td>\n",
              "      <td>3</td>\n",
              "      <td>3</td>\n",
              "      <td>3</td>\n",
              "      <td>3</td>\n",
              "    </tr>\n",
              "    <tr>\n",
              "      <th>Willoughby Ave &amp; Walworth St</th>\n",
              "      <td>8</td>\n",
              "      <td>8</td>\n",
              "      <td>8</td>\n",
              "      <td>8</td>\n",
              "      <td>8</td>\n",
              "      <td>8</td>\n",
              "      <td>8</td>\n",
              "      <td>8</td>\n",
              "      <td>8</td>\n",
              "      <td>8</td>\n",
              "      <td>8</td>\n",
              "      <td>8</td>\n",
              "      <td>8</td>\n",
              "    </tr>\n",
              "    <tr>\n",
              "      <th>Wythe Ave &amp; Metropolitan Ave</th>\n",
              "      <td>9</td>\n",
              "      <td>9</td>\n",
              "      <td>9</td>\n",
              "      <td>9</td>\n",
              "      <td>9</td>\n",
              "      <td>9</td>\n",
              "      <td>9</td>\n",
              "      <td>9</td>\n",
              "      <td>9</td>\n",
              "      <td>9</td>\n",
              "      <td>9</td>\n",
              "      <td>9</td>\n",
              "      <td>9</td>\n",
              "    </tr>\n",
              "    <tr>\n",
              "      <th>York St &amp; Jay St</th>\n",
              "      <td>46</td>\n",
              "      <td>46</td>\n",
              "      <td>46</td>\n",
              "      <td>46</td>\n",
              "      <td>46</td>\n",
              "      <td>46</td>\n",
              "      <td>46</td>\n",
              "      <td>46</td>\n",
              "      <td>46</td>\n",
              "      <td>46</td>\n",
              "      <td>46</td>\n",
              "      <td>46</td>\n",
              "      <td>46</td>\n",
              "    </tr>\n",
              "  </tbody>\n",
              "</table>\n",
              "<p>68261 rows × 13 columns</p>\n",
              "</div>\n",
              "      <button class=\"colab-df-convert\" onclick=\"convertToInteractive('df-6b0e3df5-1223-4eac-8f19-433a93d82c46')\"\n",
              "              title=\"Convert this dataframe to an interactive table.\"\n",
              "              style=\"display:none;\">\n",
              "\n",
              "  <svg xmlns=\"http://www.w3.org/2000/svg\" height=\"24px\"viewBox=\"0 0 24 24\"\n",
              "       width=\"24px\">\n",
              "    <path d=\"M0 0h24v24H0V0z\" fill=\"none\"/>\n",
              "    <path d=\"M18.56 5.44l.94 2.06.94-2.06 2.06-.94-2.06-.94-.94-2.06-.94 2.06-2.06.94zm-11 1L8.5 8.5l.94-2.06 2.06-.94-2.06-.94L8.5 2.5l-.94 2.06-2.06.94zm10 10l.94 2.06.94-2.06 2.06-.94-2.06-.94-.94-2.06-.94 2.06-2.06.94z\"/><path d=\"M17.41 7.96l-1.37-1.37c-.4-.4-.92-.59-1.43-.59-.52 0-1.04.2-1.43.59L10.3 9.45l-7.72 7.72c-.78.78-.78 2.05 0 2.83L4 21.41c.39.39.9.59 1.41.59.51 0 1.02-.2 1.41-.59l7.78-7.78 2.81-2.81c.8-.78.8-2.07 0-2.86zM5.41 20L4 18.59l7.72-7.72 1.47 1.35L5.41 20z\"/>\n",
              "  </svg>\n",
              "      </button>\n",
              "\n",
              "\n",
              "\n",
              "    <div id=\"df-7aa51637-a82d-4eb7-a503-0ed9b9ae01b9\">\n",
              "      <button class=\"colab-df-quickchart\" onclick=\"quickchart('df-7aa51637-a82d-4eb7-a503-0ed9b9ae01b9')\"\n",
              "              title=\"Suggest charts.\"\n",
              "              style=\"display:none;\">\n",
              "\n",
              "<svg xmlns=\"http://www.w3.org/2000/svg\" height=\"24px\"viewBox=\"0 0 24 24\"\n",
              "     width=\"24px\">\n",
              "    <g>\n",
              "        <path d=\"M19 3H5c-1.1 0-2 .9-2 2v14c0 1.1.9 2 2 2h14c1.1 0 2-.9 2-2V5c0-1.1-.9-2-2-2zM9 17H7v-7h2v7zm4 0h-2V7h2v10zm4 0h-2v-4h2v4z\"/>\n",
              "    </g>\n",
              "</svg>\n",
              "      </button>\n",
              "    </div>\n",
              "\n",
              "<style>\n",
              "  .colab-df-quickchart {\n",
              "    background-color: #E8F0FE;\n",
              "    border: none;\n",
              "    border-radius: 50%;\n",
              "    cursor: pointer;\n",
              "    display: none;\n",
              "    fill: #1967D2;\n",
              "    height: 32px;\n",
              "    padding: 0 0 0 0;\n",
              "    width: 32px;\n",
              "  }\n",
              "\n",
              "  .colab-df-quickchart:hover {\n",
              "    background-color: #E2EBFA;\n",
              "    box-shadow: 0px 1px 2px rgba(60, 64, 67, 0.3), 0px 1px 3px 1px rgba(60, 64, 67, 0.15);\n",
              "    fill: #174EA6;\n",
              "  }\n",
              "\n",
              "  [theme=dark] .colab-df-quickchart {\n",
              "    background-color: #3B4455;\n",
              "    fill: #D2E3FC;\n",
              "  }\n",
              "\n",
              "  [theme=dark] .colab-df-quickchart:hover {\n",
              "    background-color: #434B5C;\n",
              "    box-shadow: 0px 1px 3px 1px rgba(0, 0, 0, 0.15);\n",
              "    filter: drop-shadow(0px 1px 2px rgba(0, 0, 0, 0.3));\n",
              "    fill: #FFFFFF;\n",
              "  }\n",
              "</style>\n",
              "\n",
              "    <script>\n",
              "      async function quickchart(key) {\n",
              "        const containerElement = document.querySelector('#' + key);\n",
              "        const charts = await google.colab.kernel.invokeFunction(\n",
              "            'suggestCharts', [key], {});\n",
              "      }\n",
              "    </script>\n",
              "\n",
              "      <script>\n",
              "\n",
              "function displayQuickchartButton(domScope) {\n",
              "  let quickchartButtonEl =\n",
              "    domScope.querySelector('#df-7aa51637-a82d-4eb7-a503-0ed9b9ae01b9 button.colab-df-quickchart');\n",
              "  quickchartButtonEl.style.display =\n",
              "    google.colab.kernel.accessAllowed ? 'block' : 'none';\n",
              "}\n",
              "\n",
              "        displayQuickchartButton(document);\n",
              "      </script>\n",
              "      <style>\n",
              "    .colab-df-container {\n",
              "      display:flex;\n",
              "      flex-wrap:wrap;\n",
              "      gap: 12px;\n",
              "    }\n",
              "\n",
              "    .colab-df-convert {\n",
              "      background-color: #E8F0FE;\n",
              "      border: none;\n",
              "      border-radius: 50%;\n",
              "      cursor: pointer;\n",
              "      display: none;\n",
              "      fill: #1967D2;\n",
              "      height: 32px;\n",
              "      padding: 0 0 0 0;\n",
              "      width: 32px;\n",
              "    }\n",
              "\n",
              "    .colab-df-convert:hover {\n",
              "      background-color: #E2EBFA;\n",
              "      box-shadow: 0px 1px 2px rgba(60, 64, 67, 0.3), 0px 1px 3px 1px rgba(60, 64, 67, 0.15);\n",
              "      fill: #174EA6;\n",
              "    }\n",
              "\n",
              "    [theme=dark] .colab-df-convert {\n",
              "      background-color: #3B4455;\n",
              "      fill: #D2E3FC;\n",
              "    }\n",
              "\n",
              "    [theme=dark] .colab-df-convert:hover {\n",
              "      background-color: #434B5C;\n",
              "      box-shadow: 0px 1px 3px 1px rgba(0, 0, 0, 0.15);\n",
              "      filter: drop-shadow(0px 1px 2px rgba(0, 0, 0, 0.3));\n",
              "      fill: #FFFFFF;\n",
              "    }\n",
              "  </style>\n",
              "\n",
              "      <script>\n",
              "        const buttonEl =\n",
              "          document.querySelector('#df-6b0e3df5-1223-4eac-8f19-433a93d82c46 button.colab-df-convert');\n",
              "        buttonEl.style.display =\n",
              "          google.colab.kernel.accessAllowed ? 'block' : 'none';\n",
              "\n",
              "        async function convertToInteractive(key) {\n",
              "          const element = document.querySelector('#df-6b0e3df5-1223-4eac-8f19-433a93d82c46');\n",
              "          const dataTable =\n",
              "            await google.colab.kernel.invokeFunction('convertToInteractive',\n",
              "                                                     [key], {});\n",
              "          if (!dataTable) return;\n",
              "\n",
              "          const docLinkHtml = 'Like what you see? Visit the ' +\n",
              "            '<a target=\"_blank\" href=https://colab.research.google.com/notebooks/data_table.ipynb>data table notebook</a>'\n",
              "            + ' to learn more about interactive tables.';\n",
              "          element.innerHTML = '';\n",
              "          dataTable['output_type'] = 'display_data';\n",
              "          await google.colab.output.renderOutput(dataTable, element);\n",
              "          const docLink = document.createElement('div');\n",
              "          docLink.innerHTML = docLinkHtml;\n",
              "          element.appendChild(docLink);\n",
              "        }\n",
              "      </script>\n",
              "    </div>\n",
              "  </div>\n"
            ]
          },
          "metadata": {},
          "execution_count": 15
        }
      ]
    },
    {
      "cell_type": "code",
      "source": [
        "Start_Station_Count = df1.groupby(['start station name'])['tripduration'].count().sort_values().tail(15)\n",
        "display(Start_Station_Count)"
      ],
      "metadata": {
        "colab": {
          "base_uri": "https://localhost:8080/",
          "height": 312
        },
        "id": "CrM4_MtC9q1a",
        "outputId": "0f82fa26-b0d3-499d-ba3d-1824eb697ede"
      },
      "execution_count": 16,
      "outputs": [
        {
          "output_type": "display_data",
          "data": {
            "text/plain": [
              "start station name\n",
              "9 Ave & W 14 St                  2187\n",
              "Carmine St & 6 Ave               2203\n",
              "W 41 St & 8 Ave                  2204\n",
              "Christopher St & Greenwich St    2264\n",
              "West Thames St                   2363\n",
              "E 24 St & Park Ave S             2392\n",
              "Pershing Square North            2523\n",
              "Broadway & W 24 St               2662\n",
              "Broadway & E 22 St               2699\n",
              "Broadway & W 58 St               2743\n",
              "8 Ave & W 31 St N                2752\n",
              "Lafayette St & E 8 St            2842\n",
              "W 20 St & 11 Ave                 3141\n",
              "Broadway & E 14 St               3212\n",
              "E 17 St & Broadway               3483\n",
              "Name: tripduration, dtype: int64"
            ]
          },
          "metadata": {}
        }
      ]
    },
    {
      "cell_type": "code",
      "source": [],
      "metadata": {
        "id": "MC489U-e-dGE"
      },
      "execution_count": 16,
      "outputs": []
    },
    {
      "cell_type": "code",
      "source": [
        "Start_Station_Count.plot( kind= 'bar', color= ['orange', 'green', 'brown'], title= 'Top 15 Starting Stations', ylabel= 'Total Starting Trips', xlabel= 'Start Station Name', figsize= (10,5))"
      ],
      "metadata": {
        "colab": {
          "base_uri": "https://localhost:8080/",
          "height": 702
        },
        "id": "vqqjiZ4l-HIX",
        "outputId": "b8c819c2-f2a9-4639-e586-364d536c9d08"
      },
      "execution_count": 17,
      "outputs": [
        {
          "output_type": "execute_result",
          "data": {
            "text/plain": [
              "<Axes: title={'center': 'Top 15 Starting Stations'}, xlabel='Start Station Name', ylabel='Total Starting Trips'>"
            ]
          },
          "metadata": {},
          "execution_count": 17
        },
        {
          "output_type": "display_data",
          "data": {
            "text/plain": [
              "<Figure size 1000x500 with 1 Axes>"
            ],
            "image/png": "[encoded data removed]"
          },
          "metadata": {}
        }
      ]
    },
    {
      "cell_type": "code",
      "source": [
        "End_Station_Count = df1.groupby(['end station name'])['tripduration'].count().sort_values().tail(15)\n",
        "display(End_Station_Count)"
      ],
      "metadata": {
        "colab": {
          "base_uri": "https://localhost:8080/",
          "height": 312
        },
        "id": "0JPPv6B6-xfa",
        "outputId": "9f219411-7df2-4e90-e089-38897432a1db"
      },
      "execution_count": 18,
      "outputs": [
        {
          "output_type": "display_data",
          "data": {
            "text/plain": [
              "end station name\n",
              "Pershing Square North            2108\n",
              "Christopher St & Greenwich St    2160\n",
              "9 Ave & W 22 St                  2184\n",
              "9 Ave & W 14 St                  2189\n",
              "Carmine St & 6 Ave               2197\n",
              "E 24 St & Park Ave S             2263\n",
              "West Thames St                   2397\n",
              "Broadway & W 58 St               2399\n",
              "Broadway & E 22 St               2557\n",
              "8 Ave & W 31 St N                2585\n",
              "Lafayette St & E 8 St            2686\n",
              "Broadway & W 24 St               2814\n",
              "Broadway & E 14 St               3043\n",
              "W 20 St & 11 Ave                 3202\n",
              "E 17 St & Broadway               3524\n",
              "Name: tripduration, dtype: int64"
            ]
          },
          "metadata": {}
        }
      ]
    },
    {
      "cell_type": "code",
      "source": [
        "End_Station_Count.plot( kind= 'bar', color= ['violet', 'red', 'teal'], title= 'Top 15 Ending Stations', ylabel= 'Total Ending Trips', xlabel= 'End Station Name', figsize= (10,5))"
      ],
      "metadata": {
        "colab": {
          "base_uri": "https://localhost:8080/",
          "height": 702
        },
        "id": "_30d1_tR-3Wv",
        "outputId": "b2e8b91f-968c-44bb-b3d4-c7d2d5109fdb"
      },
      "execution_count": 19,
      "outputs": [
        {
          "output_type": "execute_result",
          "data": {
            "text/plain": [
              "<Axes: title={'center': 'Top 15 Ending Stations'}, xlabel='End Station Name', ylabel='Total Ending Trips'>"
            ]
          },
          "metadata": {},
          "execution_count": 19
        },
        {
          "output_type": "display_data",
          "data": {
            "text/plain": [
              "<Figure size 1000x500 with 1 Axes>"
            ],
            "image/png": "[encoded data removed]"
          },
          "metadata": {}
        }
      ]
    },
    {
      "cell_type": "markdown",
      "source": [
        "## Gather more information on users by usertype (Subscription vs Customer)\n"
      ],
      "metadata": {
        "id": "rZcr6Kc4ZmUg"
      }
    },
    {
      "cell_type": "code",
      "source": [
        "Usertype_Avg_Trip = df.groupby(['usertype'])['tripduration'].mean()\n",
        "display(Usertype_Avg_Trip)"
      ],
      "metadata": {
        "colab": {
          "base_uri": "https://localhost:8080/",
          "height": 86
        },
        "id": "TYwI9c-Y__jz",
        "outputId": "f7d2e3fa-bf00-405c-94b7-dd01f3236344"
      },
      "execution_count": 20,
      "outputs": [
        {
          "output_type": "display_data",
          "data": {
            "text/plain": [
              "usertype\n",
              "Customer      1753.233523\n",
              "Subscriber    1101.423426\n",
              "Name: tripduration, dtype: float64"
            ]
          },
          "metadata": {}
        }
      ]
    },
    {
      "cell_type": "code",
      "source": [
        "Usertype_Avg_Trip.plot(kind = 'bar', xlabel= 'User Type', ylabel= 'Average Duration', title= 'Average Trips on Bike', color= ['red', 'blue'])"
      ],
      "metadata": {
        "colab": {
          "base_uri": "https://localhost:8080/",
          "height": 549
        },
        "id": "vg9quEJWCe8j",
        "outputId": "38d493b0-ff43-4eb3-c68b-e063729d7eb9"
      },
      "execution_count": 29,
      "outputs": [
        {
          "output_type": "execute_result",
          "data": {
            "text/plain": [
              "<Axes: title={'center': 'Average Trips on Bike'}, xlabel='User Type', ylabel='Average Duration'>"
            ]
          },
          "metadata": {},
          "execution_count": 29
        },
        {
          "output_type": "display_data",
          "data": {
            "text/plain": [
              "<Figure size 640x480 with 1 Axes>"
            ],
            "image/png": "[encoded data removed]"
          },
          "metadata": {}
        }
      ]
    },
    {
      "cell_type": "code",
      "source": [
        "Usertype_Count_Trip = df.groupby(['usertype'])['tripduration'].count()\n",
        "display(Usertype_Count_Trip)"
      ],
      "metadata": {
        "colab": {
          "base_uri": "https://localhost:8080/",
          "height": 86
        },
        "id": "Wq6TeG_XAWQQ",
        "outputId": "006b85d4-9816-4fce-beda-5de55ab61cdf"
      },
      "execution_count": 22,
      "outputs": [
        {
          "output_type": "display_data",
          "data": {
            "text/plain": [
              "usertype\n",
              "Customer      240319\n",
              "Subscriber    337384\n",
              "Name: tripduration, dtype: int64"
            ]
          },
          "metadata": {}
        }
      ]
    },
    {
      "cell_type": "code",
      "source": [
        "Usertype_Count_Trip.plot(kind = 'bar', xlabel= 'User Type', ylabel= 'Total Trips', title= 'Total Trips on Bike', color= ['red','blue'])"
      ],
      "metadata": {
        "colab": {
          "base_uri": "https://localhost:8080/",
          "height": 549
        },
        "id": "gXgwZAgDCfkx",
        "outputId": "957ba84f-c45e-4452-9189-9a3428332824"
      },
      "execution_count": 23,
      "outputs": [
        {
          "output_type": "execute_result",
          "data": {
            "text/plain": [
              "<Axes: title={'center': 'Total Trips on Bike'}, xlabel='User Type', ylabel='Total Trips'>"
            ]
          },
          "metadata": {},
          "execution_count": 23
        },
        {
          "output_type": "display_data",
          "data": {
            "text/plain": [
              "<Figure size 640x480 with 1 Axes>"
            ],
            "image/png": "[encoded data removed]"
          },
          "metadata": {}
        }
      ]
    },
    {
      "cell_type": "markdown",
      "source": [],
      "metadata": {
        "id": "yjuwIP4IpnCc"
      }
    }
  ]
}